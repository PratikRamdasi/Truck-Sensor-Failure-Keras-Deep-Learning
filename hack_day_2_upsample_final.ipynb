{
 "cells": [
  {
   "cell_type": "markdown",
   "metadata": {
    "colab_type": "text",
    "id": "LtS3-4CtF0Zj"
   },
   "source": [
    "## Objective\n",
    "How many of the trucks that broke down did you actualy predict?<br>\n",
    "**Precision and Recall score**<br>\n",
    "**Notes**:Minimize false positives and false negatives. <br>\n",
    "the column we are trying to predict is called **failure** with binary value 0 for non-failure and 1 for failure"
   ]
  },
  {
   "cell_type": "code",
   "execution_count": 1,
   "metadata": {
    "ExecuteTime": {
     "end_time": "2019-01-29T18:20:43.538426Z",
     "start_time": "2019-01-29T18:20:22.175470Z"
    },
    "colab": {},
    "colab_type": "code",
    "id": "OX9R8MP6F0Zl"
   },
   "outputs": [
    {
     "name": "stderr",
     "output_type": "stream",
     "text": [
      "C:\\Users\\dusty\\Anaconda3\\lib\\site-packages\\h5py\\__init__.py:36: FutureWarning: Conversion of the second argument of issubdtype from `float` to `np.floating` is deprecated. In future, it will be treated as `np.float64 == np.dtype(float).type`.\n",
      "  from ._conv import register_converters as _register_converters\n"
     ]
    }
   ],
   "source": [
    "import numpy as np\n",
    "import io\n",
    "import datetime\n",
    "import datetime as dt\n",
    "from scipy import stats\n",
    "from scipy.stats import norm, skew\n",
    "import datetime as dt\n",
    "from math import radians, cos, sin, asin,sqrt\n",
    "import glob\n",
    "import pandas_profiling\n",
    "import os\n",
    "import pandas as pd\n",
    "import matplotlib.pyplot as plt\n",
    "import tensorflow as tf\n",
    "import seaborn as sns\n",
    "%matplotlib inline\n",
    "np.random.seed(7)"
   ]
  },
  {
   "cell_type": "code",
   "execution_count": 2,
   "metadata": {
    "ExecuteTime": {
     "end_time": "2019-01-29T18:20:43.548445Z",
     "start_time": "2019-01-29T18:20:43.545411Z"
    },
    "colab": {},
    "colab_type": "code",
    "id": "wWTY5_LGJTQd"
   },
   "outputs": [],
   "source": [
    "# needed to upload csv to colab\n",
    "#from google.colab import files\n",
    "#uploaded = files.upload()"
   ]
  },
  {
   "cell_type": "code",
   "execution_count": 3,
   "metadata": {
    "ExecuteTime": {
     "end_time": "2019-01-29T18:20:43.786845Z",
     "start_time": "2019-01-29T18:20:43.550406Z"
    },
    "colab": {},
    "colab_type": "code",
    "id": "t7toZQP7F0Zr"
   },
   "outputs": [],
   "source": [
    "data = pd.read_csv('failures.csv')"
   ]
  },
  {
   "cell_type": "code",
   "execution_count": 4,
   "metadata": {
    "ExecuteTime": {
     "end_time": "2019-01-29T18:20:43.822855Z",
     "start_time": "2019-01-29T18:20:43.788216Z"
    },
    "colab": {
     "base_uri": "https://localhost:8080/",
     "height": 195
    },
    "colab_type": "code",
    "id": "hpIaKJR3DjNr",
    "outputId": "1dd460bc-f086-48fe-d67b-a8a88e719b40"
   },
   "outputs": [
    {
     "data": {
      "text/html": [
       "<div>\n",
       "<style scoped>\n",
       "    .dataframe tbody tr th:only-of-type {\n",
       "        vertical-align: middle;\n",
       "    }\n",
       "\n",
       "    .dataframe tbody tr th {\n",
       "        vertical-align: top;\n",
       "    }\n",
       "\n",
       "    .dataframe thead th {\n",
       "        text-align: right;\n",
       "    }\n",
       "</style>\n",
       "<table border=\"1\" class=\"dataframe\">\n",
       "  <thead>\n",
       "    <tr style=\"text-align: right;\">\n",
       "      <th></th>\n",
       "      <th>date</th>\n",
       "      <th>device</th>\n",
       "      <th>failure</th>\n",
       "      <th>attribute1</th>\n",
       "      <th>attribute2</th>\n",
       "      <th>attribute3</th>\n",
       "      <th>attribute4</th>\n",
       "      <th>attribute5</th>\n",
       "      <th>attribute6</th>\n",
       "      <th>attribute7</th>\n",
       "      <th>attribute8</th>\n",
       "      <th>attribute9</th>\n",
       "    </tr>\n",
       "  </thead>\n",
       "  <tbody>\n",
       "    <tr>\n",
       "      <th>0</th>\n",
       "      <td>2015-01-01</td>\n",
       "      <td>S1F01085</td>\n",
       "      <td>0</td>\n",
       "      <td>215630672</td>\n",
       "      <td>56</td>\n",
       "      <td>0</td>\n",
       "      <td>52</td>\n",
       "      <td>6</td>\n",
       "      <td>407438</td>\n",
       "      <td>0</td>\n",
       "      <td>0</td>\n",
       "      <td>7</td>\n",
       "    </tr>\n",
       "    <tr>\n",
       "      <th>1</th>\n",
       "      <td>2015-01-01</td>\n",
       "      <td>S1F0166B</td>\n",
       "      <td>0</td>\n",
       "      <td>61370680</td>\n",
       "      <td>0</td>\n",
       "      <td>3</td>\n",
       "      <td>0</td>\n",
       "      <td>6</td>\n",
       "      <td>403174</td>\n",
       "      <td>0</td>\n",
       "      <td>0</td>\n",
       "      <td>0</td>\n",
       "    </tr>\n",
       "    <tr>\n",
       "      <th>2</th>\n",
       "      <td>2015-01-01</td>\n",
       "      <td>S1F01E6Y</td>\n",
       "      <td>0</td>\n",
       "      <td>173295968</td>\n",
       "      <td>0</td>\n",
       "      <td>0</td>\n",
       "      <td>0</td>\n",
       "      <td>12</td>\n",
       "      <td>237394</td>\n",
       "      <td>0</td>\n",
       "      <td>0</td>\n",
       "      <td>0</td>\n",
       "    </tr>\n",
       "    <tr>\n",
       "      <th>3</th>\n",
       "      <td>2015-01-01</td>\n",
       "      <td>S1F01JE0</td>\n",
       "      <td>0</td>\n",
       "      <td>79694024</td>\n",
       "      <td>0</td>\n",
       "      <td>0</td>\n",
       "      <td>0</td>\n",
       "      <td>6</td>\n",
       "      <td>410186</td>\n",
       "      <td>0</td>\n",
       "      <td>0</td>\n",
       "      <td>0</td>\n",
       "    </tr>\n",
       "    <tr>\n",
       "      <th>4</th>\n",
       "      <td>2015-01-01</td>\n",
       "      <td>S1F01R2B</td>\n",
       "      <td>0</td>\n",
       "      <td>135970480</td>\n",
       "      <td>0</td>\n",
       "      <td>0</td>\n",
       "      <td>0</td>\n",
       "      <td>15</td>\n",
       "      <td>313173</td>\n",
       "      <td>0</td>\n",
       "      <td>0</td>\n",
       "      <td>3</td>\n",
       "    </tr>\n",
       "  </tbody>\n",
       "</table>\n",
       "</div>"
      ],
      "text/plain": [
       "         date    device  failure  attribute1  attribute2  attribute3  \\\n",
       "0  2015-01-01  S1F01085        0   215630672          56           0   \n",
       "1  2015-01-01  S1F0166B        0    61370680           0           3   \n",
       "2  2015-01-01  S1F01E6Y        0   173295968           0           0   \n",
       "3  2015-01-01  S1F01JE0        0    79694024           0           0   \n",
       "4  2015-01-01  S1F01R2B        0   135970480           0           0   \n",
       "\n",
       "   attribute4  attribute5  attribute6  attribute7  attribute8  attribute9  \n",
       "0          52           6      407438           0           0           7  \n",
       "1           0           6      403174           0           0           0  \n",
       "2           0          12      237394           0           0           0  \n",
       "3           0           6      410186           0           0           0  \n",
       "4           0          15      313173           0           0           3  "
      ]
     },
     "execution_count": 4,
     "metadata": {},
     "output_type": "execute_result"
    }
   ],
   "source": [
    "data.head()"
   ]
  },
  {
   "cell_type": "code",
   "execution_count": 5,
   "metadata": {
    "ExecuteTime": {
     "end_time": "2019-01-29T18:20:45.055651Z",
     "start_time": "2019-01-29T18:20:43.825816Z"
    },
    "colab": {},
    "colab_type": "code",
    "id": "xDQctNoOrCby"
   },
   "outputs": [],
   "source": [
    "# groupby on device and then take the max of all the numerical columns\n",
    "data = data.groupby(['device'], as_index=False).max()"
   ]
  },
  {
   "cell_type": "code",
   "execution_count": 6,
   "metadata": {
    "ExecuteTime": {
     "end_time": "2019-01-29T18:20:45.078504Z",
     "start_time": "2019-01-29T18:20:45.057559Z"
    },
    "colab": {},
    "colab_type": "code",
    "id": "IJFUaRoTujsD"
   },
   "outputs": [],
   "source": [
    "# Going to get the month, and day of the week.\n",
    "# convert date to datetime\n",
    "data['date'] = pd.to_datetime(data.date)\n",
    "# get the day of the week\n",
    "data['day_of_week'] = data.date.dt.weekday_name\n",
    "# getting month\n",
    "data['month'] = [i.strftime('%b') for i in data['date']]"
   ]
  },
  {
   "cell_type": "code",
   "execution_count": 7,
   "metadata": {
    "ExecuteTime": {
     "end_time": "2019-01-29T18:20:45.091501Z",
     "start_time": "2019-01-29T18:20:45.080499Z"
    },
    "colab": {},
    "colab_type": "code",
    "id": "KlVQX03Qgbvt"
   },
   "outputs": [],
   "source": [
    "# function to normalize the data\n",
    "def Normal(data):\n",
    "    mean_data = np.mean(data)\n",
    "    std_data = np.std(data)\n",
    "    norm_data = (data-mean_data)/std_data\n",
    "    return norm_data"
   ]
  },
  {
   "cell_type": "code",
   "execution_count": 8,
   "metadata": {
    "ExecuteTime": {
     "end_time": "2019-01-29T18:20:45.302959Z",
     "start_time": "2019-01-29T18:20:45.094464Z"
    },
    "colab": {},
    "colab_type": "code",
    "id": "J7Wqg7aL2ShU"
   },
   "outputs": [],
   "source": [
    "# FOR NORMALIZING THE DATA\n",
    "\n",
    "#  Pull out device id \n",
    "device_id = data['device']\n",
    "# drop the columns we dont want(attribute7 because its the same as attribute8)\n",
    "X = data.drop(['failure','attribute7', 'date', 'device'], axis=1)\n",
    "# get list of integer columns to normalize\n",
    "int_cols = [col for col in X if X[col].dtype == 'int64']\n",
    "cat_cols = [col for col in X if X[col].dtype != 'int64']\n",
    "# normalize\n",
    "#X = X[int_cols].apply(lambda x: (x-np.mean(x))/(np.std(x)+1e-10)).join(X[cat_cols])\n",
    "X = Normal(X[int_cols]).join(X[cat_cols])\n",
    "# get dummies\n",
    "X_normal = pd.get_dummies(X, columns= ['month', 'day_of_week'],drop_first=True)\n",
    "y = data['failure']"
   ]
  },
  {
   "cell_type": "code",
   "execution_count": 10,
   "metadata": {
    "ExecuteTime": {
     "end_time": "2019-01-29T18:20:47.654512Z",
     "start_time": "2019-01-29T18:20:47.644537Z"
    },
    "colab": {},
    "colab_type": "code",
    "id": "zujWjvHaXPue"
   },
   "outputs": [],
   "source": [
    "from sklearn.model_selection import train_test_split\n",
    "# splitting data into train and test sets\n",
    "X_train, X_test, y_train, y_test = train_test_split(X_normal,y, test_size=.2, random_state =12, stratify=y)"
   ]
  },
  {
   "cell_type": "code",
   "execution_count": 11,
   "metadata": {
    "ExecuteTime": {
     "end_time": "2019-01-29T18:20:47.669477Z",
     "start_time": "2019-01-29T18:20:47.656507Z"
    },
    "colab": {
     "base_uri": "https://localhost:8080/",
     "height": 67
    },
    "colab_type": "code",
    "id": "cZNMliXRg1S3",
    "outputId": "f1c709d0-dd47-4960-b7b2-3946759cb564"
   },
   "outputs": [
    {
     "data": {
      "text/plain": [
       "0    849\n",
       "1     85\n",
       "Name: failure, dtype: int64"
      ]
     },
     "execution_count": 11,
     "metadata": {},
     "output_type": "execute_result"
    }
   ],
   "source": [
    "# checking value counts to compare after smote to confirm it upsampled\n",
    "y_train_df = pd.DataFrame(y_train)\n",
    "y_train_df['failure'].value_counts()"
   ]
  },
  {
   "cell_type": "markdown",
   "metadata": {},
   "source": [
    "### Upsampling with Smote"
   ]
  },
  {
   "cell_type": "code",
   "execution_count": 12,
   "metadata": {
    "ExecuteTime": {
     "end_time": "2019-01-29T18:20:47.693926Z",
     "start_time": "2019-01-29T18:20:47.673014Z"
    },
    "colab": {},
    "colab_type": "code",
    "id": "Ilf1lBXBXPyB"
   },
   "outputs": [],
   "source": [
    "from imblearn.over_sampling import SMOTE\n",
    "sm = SMOTE(random_state=12, sampling_strategy='minority')\n",
    "X_train_res, y_train_res = sm.fit_sample(X_train, y_train)"
   ]
  },
  {
   "cell_type": "code",
   "execution_count": 13,
   "metadata": {
    "ExecuteTime": {
     "end_time": "2019-01-29T18:20:47.705917Z",
     "start_time": "2019-01-29T18:20:47.696913Z"
    },
    "colab": {
     "base_uri": "https://localhost:8080/",
     "height": 67
    },
    "colab_type": "code",
    "id": "XLxtHefkjgUL",
    "outputId": "df0958fe-d635-42f3-c5c6-5c9e2bc37fe9"
   },
   "outputs": [
    {
     "data": {
      "text/plain": [
       "1    849\n",
       "0    849\n",
       "Name: 0, dtype: int64"
      ]
     },
     "execution_count": 13,
     "metadata": {},
     "output_type": "execute_result"
    }
   ],
   "source": [
    "y_train_res_df = pd.DataFrame(y_train_res)\n",
    "y_train_res_df[0].value_counts()"
   ]
  },
  {
   "cell_type": "markdown",
   "metadata": {},
   "source": [
    "### Setting up the keras deep learning model"
   ]
  },
  {
   "cell_type": "code",
   "execution_count": 14,
   "metadata": {
    "ExecuteTime": {
     "end_time": "2019-01-29T18:20:48.416397Z",
     "start_time": "2019-01-29T18:20:47.707895Z"
    },
    "colab": {},
    "colab_type": "code",
    "id": "owi94B67NGI1"
   },
   "outputs": [
    {
     "name": "stderr",
     "output_type": "stream",
     "text": [
      "Using TensorFlow backend.\n"
     ]
    }
   ],
   "source": [
    "from keras.models import Sequential\n",
    "from keras.layers import Dense, Dropout"
   ]
  },
  {
   "cell_type": "code",
   "execution_count": 52,
   "metadata": {
    "ExecuteTime": {
     "end_time": "2019-01-29T18:24:16.119908Z",
     "start_time": "2019-01-29T18:24:16.064059Z"
    },
    "colab": {
     "base_uri": "https://localhost:8080/",
     "height": 202
    },
    "colab_type": "code",
    "id": "tmQ79-GQNeSE",
    "outputId": "6202a67a-d789-4194-f140-ace5bf00006a"
   },
   "outputs": [
    {
     "name": "stdout",
     "output_type": "stream",
     "text": [
      "_________________________________________________________________\n",
      "Layer (type)                 Output Shape              Param #   \n",
      "=================================================================\n",
      "dense_19 (Dense)             (None, 32)                800       \n",
      "_________________________________________________________________\n",
      "dense_20 (Dense)             (None, 1)                 33        \n",
      "=================================================================\n",
      "Total params: 833\n",
      "Trainable params: 833\n",
      "Non-trainable params: 0\n",
      "_________________________________________________________________\n"
     ]
    }
   ],
   "source": [
    "# creating variable for input dim\n",
    "input_dim = len(X_train.columns)\n",
    "model = Sequential()\n",
    "#First layer\n",
    "model.add(Dense(32, input_dim=input_dim, activation='relu'))\n",
    "# hidden layer\n",
    "#model.add(Dense(4, activation='relu'))\n",
    "#output layer. Notice sigmoid(read it was best for binary classification)\n",
    "model.add(Dense(1, activation='sigmoid'))\n",
    "#summary\n",
    "model.summary()"
   ]
  },
  {
   "cell_type": "markdown",
   "metadata": {
    "colab_type": "text",
    "id": "uaizGsvrUosb"
   },
   "source": [
    "For metrics I want precision and recall which were recently removed as of keras 2.0. So I found this package someone made called keras_metrics"
   ]
  },
  {
   "cell_type": "code",
   "execution_count": 53,
   "metadata": {
    "ExecuteTime": {
     "end_time": "2019-01-29T18:24:17.142545Z",
     "start_time": "2019-01-29T18:24:16.875388Z"
    },
    "colab": {},
    "colab_type": "code",
    "id": "GurOtrusO20S"
   },
   "outputs": [],
   "source": [
    "import keras_metrics\n",
    "from keras import optimizers\n",
    "adam = optimizers.Adam(lr=.001)\n",
    "model.compile(loss='binary_crossentropy', optimizer=adam, metrics=[keras_metrics.precision(), keras_metrics.recall(), 'accuracy'])"
   ]
  },
  {
   "cell_type": "code",
   "execution_count": 54,
   "metadata": {
    "ExecuteTime": {
     "end_time": "2019-01-29T18:24:22.150177Z",
     "start_time": "2019-01-29T18:24:17.254153Z"
    },
    "colab": {
     "base_uri": "https://localhost:8080/",
     "height": 1378
    },
    "colab_type": "code",
    "id": "Z8sPzOQ_O5iM",
    "outputId": "3e577022-3fae-4a1f-9174-03f175fc88ed"
   },
   "outputs": [
    {
     "name": "stdout",
     "output_type": "stream",
     "text": [
      "Epoch 1/20\n",
      "1698/1698 [==============================] - 0s 211us/step - loss: 0.5726 - precision: 0.7323 - recall: 0.8186 - acc: 0.7597\n",
      "Epoch 2/20\n",
      "1698/1698 [==============================] - 0s 100us/step - loss: 0.4449 - precision: 0.9096 - recall: 0.8292 - acc: 0.8734\n",
      "Epoch 3/20\n",
      "1698/1698 [==============================] - 0s 98us/step - loss: 0.3629 - precision: 0.9222 - recall: 0.8516 - acc: 0.8899\n",
      "Epoch 4/20\n",
      "1698/1698 [==============================] - 0s 95us/step - loss: 0.3093 - precision: 0.9299 - recall: 0.8598 - acc: 0.8975\n",
      "Epoch 5/20\n",
      "1698/1698 [==============================] - 0s 94us/step - loss: 0.2721 - precision: 0.9395 - recall: 0.8787 - acc: 0.9111\n",
      "Epoch 6/20\n",
      "1698/1698 [==============================] - 0s 93us/step - loss: 0.2422 - precision: 0.9433 - recall: 0.8810 - acc: 0.9140\n",
      "Epoch 7/20\n",
      "1698/1698 [==============================] - 0s 107us/step - loss: 0.2164 - precision: 0.9516 - recall: 0.9022 - acc: 0.9282\n",
      "Epoch 8/20\n",
      "1698/1698 [==============================] - 0s 105us/step - loss: 0.1950 - precision: 0.9565 - recall: 0.9329 - acc: 0.9452\n",
      "Epoch 9/20\n",
      "1698/1698 [==============================] - 0s 103us/step - loss: 0.1756 - precision: 0.9614 - recall: 0.9376 - acc: 0.94990s - loss: 0.1812 - precision: 0.9646 - recall: 0.9405 - acc: 0.\n",
      "Epoch 10/20\n",
      "1698/1698 [==============================] - 0s 96us/step - loss: 0.1581 - precision: 0.9620 - recall: 0.9529 - acc: 0.9576\n",
      "Epoch 11/20\n",
      "1698/1698 [==============================] - 0s 90us/step - loss: 0.1424 - precision: 0.9679 - recall: 0.9576 - acc: 0.9629\n",
      "Epoch 12/20\n",
      "1698/1698 [==============================] - 0s 105us/step - loss: 0.1292 - precision: 0.9729 - recall: 0.9729 - acc: 0.9729\n",
      "Epoch 13/20\n",
      "1698/1698 [==============================] - 0s 106us/step - loss: 0.1168 - precision: 0.9775 - recall: 0.9706 - acc: 0.9741\n",
      "Epoch 14/20\n",
      "1698/1698 [==============================] - 0s 105us/step - loss: 0.1057 - precision: 0.9845 - recall: 0.9741 - acc: 0.9794\n",
      "Epoch 15/20\n",
      "1698/1698 [==============================] - 0s 103us/step - loss: 0.0968 - precision: 0.9811 - recall: 0.9776 - acc: 0.9794\n",
      "Epoch 16/20\n",
      "1698/1698 [==============================] - 0s 106us/step - loss: 0.0882 - precision: 0.9893 - recall: 0.9788 - acc: 0.9841\n",
      "Epoch 17/20\n",
      "1698/1698 [==============================] - 0s 107us/step - loss: 0.0813 - precision: 0.9835 - recall: 0.9812 - acc: 0.9823\n",
      "Epoch 18/20\n",
      "1698/1698 [==============================] - 0s 107us/step - loss: 0.0754 - precision: 0.9905 - recall: 0.9835 - acc: 0.9870\n",
      "Epoch 19/20\n",
      "1698/1698 [==============================] - 0s 100us/step - loss: 0.0702 - precision: 0.9917 - recall: 0.9859 - acc: 0.9888\n",
      "Epoch 20/20\n",
      "1698/1698 [==============================] - 0s 111us/step - loss: 0.0649 - precision: 0.9929 - recall: 0.9870 - acc: 0.9900\n"
     ]
    },
    {
     "data": {
      "text/plain": [
       "<keras.callbacks.History at 0x1ff92949cc0>"
      ]
     },
     "execution_count": 54,
     "metadata": {},
     "output_type": "execute_result"
    }
   ],
   "source": [
    "# train the model\n",
    "model.fit(X_train_res,y_train_res, epochs=20,batch_size=10) #  batch size is the number of training examples in one forward/backward pass"
   ]
  },
  {
   "cell_type": "code",
   "execution_count": 55,
   "metadata": {
    "ExecuteTime": {
     "end_time": "2019-01-29T18:24:22.455250Z",
     "start_time": "2019-01-29T18:24:22.268858Z"
    },
    "colab": {
     "base_uri": "https://localhost:8080/",
     "height": 168
    },
    "colab_type": "code",
    "id": "xHwDtTHwO9rG",
    "outputId": "39e1c2ef-e24e-4060-dbc0-efbf49c22494"
   },
   "outputs": [
    {
     "name": "stdout",
     "output_type": "stream",
     "text": [
      "234/234 [==============================] - 0s 377us/step\n",
      "\n",
      "loss: 16.37%\n",
      "\n",
      "precision: 85.71%\n",
      "\n",
      "recall: 85.71%\n",
      "\n",
      "acc: 97.44%\n"
     ]
    }
   ],
   "source": [
    "# test the model\n",
    "scores = model.evaluate(X_test, y_test, batch_size=10)\n",
    "for i in range(len(model.metrics_names)):\n",
    "  print(\"\\n%s: %.2f%%\" % (model.metrics_names[i], scores[i]*100))"
   ]
  },
  {
   "cell_type": "code",
   "execution_count": 56,
   "metadata": {
    "ExecuteTime": {
     "end_time": "2019-01-29T18:24:36.856018Z",
     "start_time": "2019-01-29T18:24:36.714365Z"
    },
    "colab": {
     "base_uri": "https://localhost:8080/",
     "height": 185
    },
    "colab_type": "code",
    "id": "ee8S32YZN4Mg",
    "outputId": "3b412dc0-da21-4a33-fe5b-ee0b58b58825"
   },
   "outputs": [
    {
     "name": "stdout",
     "output_type": "stream",
     "text": [
      "[INFO] Evaluating network...\n",
      "              precision    recall  f1-score   support\n",
      "\n",
      "           0       0.99      0.99      0.99       213\n",
      "           1       0.86      0.86      0.86        21\n",
      "\n",
      "   micro avg       0.97      0.97      0.97       234\n",
      "   macro avg       0.92      0.92      0.92       234\n",
      "weighted avg       0.97      0.97      0.97       234\n",
      "\n"
     ]
    }
   ],
   "source": [
    "from sklearn.metrics import classification_report\n",
    "# Evaluate TEST model class prediction accuracy\n",
    "print(\"[INFO] Evaluating network...\")\n",
    "predictions = model.predict(X_test)\n",
    "print(classification_report(y_test, np.round(predictions,0)))"
   ]
  },
  {
   "cell_type": "code",
   "execution_count": 57,
   "metadata": {
    "ExecuteTime": {
     "end_time": "2019-01-29T18:24:39.854469Z",
     "start_time": "2019-01-29T18:24:39.838510Z"
    },
    "colab": {
     "base_uri": "https://localhost:8080/",
     "height": 106
    },
    "colab_type": "code",
    "id": "gZy0ag_0tcMk",
    "outputId": "5f5c1aa1-8631-491a-9f85-761628be9bff"
   },
   "outputs": [
    {
     "data": {
      "text/html": [
       "<div>\n",
       "<style scoped>\n",
       "    .dataframe tbody tr th:only-of-type {\n",
       "        vertical-align: middle;\n",
       "    }\n",
       "\n",
       "    .dataframe tbody tr th {\n",
       "        vertical-align: top;\n",
       "    }\n",
       "\n",
       "    .dataframe thead th {\n",
       "        text-align: right;\n",
       "    }\n",
       "</style>\n",
       "<table border=\"1\" class=\"dataframe\">\n",
       "  <thead>\n",
       "    <tr style=\"text-align: right;\">\n",
       "      <th></th>\n",
       "      <th>Predicted 0</th>\n",
       "      <th>Predicted 1</th>\n",
       "    </tr>\n",
       "  </thead>\n",
       "  <tbody>\n",
       "    <tr>\n",
       "      <th>Actual 0</th>\n",
       "      <td>210</td>\n",
       "      <td>3</td>\n",
       "    </tr>\n",
       "    <tr>\n",
       "      <th>Actual 1</th>\n",
       "      <td>3</td>\n",
       "      <td>18</td>\n",
       "    </tr>\n",
       "  </tbody>\n",
       "</table>\n",
       "</div>"
      ],
      "text/plain": [
       "          Predicted 0  Predicted 1\n",
       "Actual 0          210            3\n",
       "Actual 1            3           18"
      ]
     },
     "execution_count": 57,
     "metadata": {},
     "output_type": "execute_result"
    }
   ],
   "source": [
    "cm = confusion_matrix(y_test, np.round(predictions,0))\n",
    "list1 = [\"Actual 0\", \"Actual 1\"]\n",
    "list2 = [\"Predicted 0\", \"Predicted 1\"]\n",
    "cm_df = pd.DataFrame(cm, list1, list2)\n",
    "cm_df"
   ]
  },
  {
   "cell_type": "code",
   "execution_count": 59,
   "metadata": {
    "ExecuteTime": {
     "end_time": "2019-01-29T18:25:17.498831Z",
     "start_time": "2019-01-29T18:25:17.477890Z"
    },
    "colab": {
     "base_uri": "https://localhost:8080/",
     "height": 185
    },
    "colab_type": "code",
    "id": "hfbU4ZNtN4Qi",
    "outputId": "403be9d8-2927-4782-e35b-0759b4011ed2"
   },
   "outputs": [
    {
     "name": "stdout",
     "output_type": "stream",
     "text": [
      "[INFO] Evaluating network...\n",
      "              precision    recall  f1-score   support\n",
      "\n",
      "           0       1.00      0.99      0.99       849\n",
      "           1       0.93      0.96      0.95        85\n",
      "\n",
      "   micro avg       0.99      0.99      0.99       934\n",
      "   macro avg       0.96      0.98      0.97       934\n",
      "weighted avg       0.99      0.99      0.99       934\n",
      "\n"
     ]
    }
   ],
   "source": [
    "# Evaluate TRAIN model class prediction accuracy\n",
    "print(\"[INFO] Evaluating network...\")\n",
    "trainPreds = model.predict(X_train)\n",
    "print(classification_report(y_train, np.round(trainPreds,0)))"
   ]
  },
  {
   "cell_type": "code",
   "execution_count": 60,
   "metadata": {
    "ExecuteTime": {
     "end_time": "2019-01-29T18:25:18.846424Z",
     "start_time": "2019-01-29T18:25:18.833427Z"
    },
    "colab": {
     "base_uri": "https://localhost:8080/",
     "height": 106
    },
    "colab_type": "code",
    "id": "Sks4Qj2ISG0K",
    "outputId": "9ce6284f-8c8e-42a4-d6e2-04bdef8fa6a3"
   },
   "outputs": [
    {
     "data": {
      "text/html": [
       "<div>\n",
       "<style scoped>\n",
       "    .dataframe tbody tr th:only-of-type {\n",
       "        vertical-align: middle;\n",
       "    }\n",
       "\n",
       "    .dataframe tbody tr th {\n",
       "        vertical-align: top;\n",
       "    }\n",
       "\n",
       "    .dataframe thead th {\n",
       "        text-align: right;\n",
       "    }\n",
       "</style>\n",
       "<table border=\"1\" class=\"dataframe\">\n",
       "  <thead>\n",
       "    <tr style=\"text-align: right;\">\n",
       "      <th></th>\n",
       "      <th>Predicted 0</th>\n",
       "      <th>Predicted 1</th>\n",
       "    </tr>\n",
       "  </thead>\n",
       "  <tbody>\n",
       "    <tr>\n",
       "      <th>Actual 0</th>\n",
       "      <td>843</td>\n",
       "      <td>6</td>\n",
       "    </tr>\n",
       "    <tr>\n",
       "      <th>Actual 1</th>\n",
       "      <td>3</td>\n",
       "      <td>82</td>\n",
       "    </tr>\n",
       "  </tbody>\n",
       "</table>\n",
       "</div>"
      ],
      "text/plain": [
       "          Predicted 0  Predicted 1\n",
       "Actual 0          843            6\n",
       "Actual 1            3           82"
      ]
     },
     "execution_count": 60,
     "metadata": {},
     "output_type": "execute_result"
    }
   ],
   "source": [
    "cm = confusion_matrix(y_train, np.round(trainPreds,0))\n",
    "list1 = [\"Actual 0\", \"Actual 1\"]\n",
    "list2 = [\"Predicted 0\", \"Predicted 1\"]\n",
    "cm_df = pd.DataFrame(cm, list1, list2)\n",
    "cm_df"
   ]
  },
  {
   "cell_type": "code",
   "execution_count": 0,
   "metadata": {
    "colab": {},
    "colab_type": "code",
    "id": "3aHXr9Nfws_d"
   },
   "outputs": [],
   "source": []
  }
 ],
 "metadata": {
  "accelerator": "GPU",
  "colab": {
   "collapsed_sections": [],
   "name": "hack day 2 notebook.ipynb",
   "provenance": [],
   "version": "0.3.2"
  },
  "kernelspec": {
   "display_name": "Python 3",
   "language": "python",
   "name": "python3"
  },
  "language_info": {
   "codemirror_mode": {
    "name": "ipython",
    "version": 3
   },
   "file_extension": ".py",
   "mimetype": "text/x-python",
   "name": "python",
   "nbconvert_exporter": "python",
   "pygments_lexer": "ipython3",
   "version": "3.5.6"
  },
  "toc": {
   "base_numbering": 1,
   "nav_menu": {},
   "number_sections": true,
   "sideBar": true,
   "skip_h1_title": false,
   "title_cell": "Table of Contents",
   "title_sidebar": "Contents",
   "toc_cell": false,
   "toc_position": {},
   "toc_section_display": true,
   "toc_window_display": false
  },
  "varInspector": {
   "cols": {
    "lenName": 16,
    "lenType": 16,
    "lenVar": 40
   },
   "kernels_config": {
    "python": {
     "delete_cmd_postfix": "",
     "delete_cmd_prefix": "del ",
     "library": "var_list.py",
     "varRefreshCmd": "print(var_dic_list())"
    },
    "r": {
     "delete_cmd_postfix": ") ",
     "delete_cmd_prefix": "rm(",
     "library": "var_list.r",
     "varRefreshCmd": "cat(var_dic_list()) "
    }
   },
   "types_to_exclude": [
    "module",
    "function",
    "builtin_function_or_method",
    "instance",
    "_Feature"
   ],
   "window_display": false
  }
 },
 "nbformat": 4,
 "nbformat_minor": 1
}
